{
  "nbformat": 4,
  "nbformat_minor": 0,
  "metadata": {
    "colab": {
      "provenance": []
    },
    "kernelspec": {
      "name": "python3",
      "display_name": "Python 3"
    },
    "language_info": {
      "name": "python"
    }
  },
  "cells": [
    {
      "cell_type": "code",
      "execution_count": 21,
      "metadata": {
        "id": "_-QPpAql0LHa"
      },
      "outputs": [],
      "source": [
        "import numpy as np"
      ]
    },
    {
      "cell_type": "code",
      "source": [
        "class LSTM:\n",
        "    def __init__(self): #1\n",
        "        # Initialize LSTM parameters (weights and biases)\n",
        "        self.W_f, self.W_hf, self.b_f = 0.5, 0.1, 0  # Forget gate\n",
        "        self.W_i, self.W_hi, self.b_i = 0.6, 0.2, 0  # Input gate\n",
        "        self.W_c, self.W_hc, self.b_c = 0.7, 0.3, 0  # Candidate cell state\n",
        "        self.W_o, self.W_ho, self.b_o = 0.8, 0.4, 0  # Output gate\n",
        "\n",
        "        # Initial states\n",
        "        self.h_prev, self.C_prev = 0, 0  # Initial hidden state and cell state\n",
        "\n",
        "        # Linear transformation for prediction\n",
        "        self.W_y, self.b_y = 4, 0  # Weights for output prediction\n",
        "\n",
        "\n",
        "    def sigmoid(self, x): #2\n",
        "        return 1 / (1 + np.exp(-x))\n",
        "\n",
        "    def tanh(self, x): #3\n",
        "        return np.tanh(x)\n",
        "\n",
        "    def forward_step(self, x_t): #4\n",
        "        # Forget gate\n",
        "        f_t = self.sigmoid(self.W_f * x_t + self.W_hf * self.h_prev + self.b_f)\n",
        "\n",
        "        # Input gate\n",
        "        i_t = self.sigmoid(self.W_i * x_t + self.W_hi * self.h_prev + self.b_i)\n",
        "\n",
        "        # Candidate cell state\n",
        "        C_tilde_t = self.tanh(self.W_c * x_t + self.W_hc * self.h_prev + self.b_c)\n",
        "\n",
        "        # Cell state update\n",
        "        C_t = f_t * self.C_prev + i_t * C_tilde_t\n",
        "\n",
        "        # Output gate\n",
        "        o_t = self.sigmoid(self.W_o * x_t + self.W_ho * self.h_prev + self.b_o)\n",
        "\n",
        "        # Hidden state update\n",
        "        h_t = o_t * self.tanh(C_t)\n",
        "\n",
        "        # Update previous states for next iteration\n",
        "        self.h_prev, self.C_prev = h_t, C_t\n",
        "\n",
        "        return f_t, i_t, C_tilde_t, C_t, o_t, h_t\n",
        "\n",
        "    def predict(self, h_t): #5\n",
        "        # Predict the next value using a linear transformation\n",
        "        return self.W_y * h_t + self.b_y\n",
        "\n"
      ],
      "metadata": {
        "id": "bFeukvx07Rqy"
      },
      "execution_count": 24,
      "outputs": []
    },
    {
      "cell_type": "code",
      "source": [
        "\n",
        "# Input sequence\n",
        "X = [1, 2, 3]\n",
        "\n",
        "# Initialize LSTM\n",
        "lstm = LSTM()\n",
        "\n",
        "# Process each time step\n",
        "for t in range(len(X)):\n",
        "    x_t = X[t]\n",
        "    f_t, i_t, C_tilde_t, C_t, o_t, h_t = lstm.forward_step(x_t)\n",
        "\n",
        "    # Print intermediate results for each time step\n",
        "    print(f\"Time Step {t + 1}:\")\n",
        "    print(f\"  Forget gate (f_t): {f_t:.3f}\")\n",
        "    print(f\"  Input gate (i_t): {i_t:.3f}\")\n",
        "    print(f\"  Candidate cell state (C_tilde_t): {C_tilde_t:.3f}\")\n",
        "    print(f\"  Cell state (C_t): {C_t:.3f}\")\n",
        "    print(f\"  Output gate (o_t): {o_t:.3f}\")\n",
        "    print(f\"  Hidden state (h_t): {h_t:.3f}\")\n",
        "    print()\n",
        "\n",
        "# Predict the next value using the final hidden state\n",
        "y_pred = lstm.predict(h_t)\n",
        "print(f\"Predicted next value (y_pred): {y_pred:.3f}\")"
      ],
      "metadata": {
        "colab": {
          "base_uri": "https://localhost:8080/"
        },
        "id": "8NvWWiz27WbJ",
        "outputId": "8b0ff48c-48b5-4c85-b382-2b915e685e5e"
      },
      "execution_count": 25,
      "outputs": [
        {
          "output_type": "stream",
          "name": "stdout",
          "text": [
            "Time Step 1:\n",
            "  Forget gate (f_t): 0.622\n",
            "  Input gate (i_t): 0.646\n",
            "  Candidate cell state (C_tilde_t): 0.604\n",
            "  Cell state (C_t): 0.390\n",
            "  Output gate (o_t): 0.690\n",
            "  Hidden state (h_t): 0.256\n",
            "\n",
            "Time Step 2:\n",
            "  Forget gate (f_t): 0.736\n",
            "  Input gate (i_t): 0.778\n",
            "  Candidate cell state (C_tilde_t): 0.901\n",
            "  Cell state (C_t): 0.988\n",
            "  Output gate (o_t): 0.846\n",
            "  Hidden state (h_t): 0.640\n",
            "\n",
            "Time Step 3:\n",
            "  Forget gate (f_t): 0.827\n",
            "  Input gate (i_t): 0.873\n",
            "  Candidate cell state (C_tilde_t): 0.980\n",
            "  Cell state (C_t): 1.672\n",
            "  Output gate (o_t): 0.934\n",
            "  Hidden state (h_t): 0.871\n",
            "\n",
            "Predicted next value (y_pred): 3.483\n"
          ]
        }
      ]
    }
  ]
}